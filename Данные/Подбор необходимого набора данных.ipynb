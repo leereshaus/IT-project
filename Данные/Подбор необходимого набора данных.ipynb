{
 "cells": [
  {
   "cell_type": "markdown",
   "id": "565ab505",
   "metadata": {},
   "source": [
    "## Подбор необходимого набора данных"
   ]
  },
  {
   "cell_type": "markdown",
   "id": "c1f73e09",
   "metadata": {},
   "source": [
    "### Библиотека datasets\n",
    "\n",
    "Библиотека datasets от Hugging Face предоставляет множество наборов данных для различных задач в области машинного обучения и обработки естественного языка. Вот некоторые из популярных наборов данных, которые могут быть полезны для работы с текстом, включая новости на русском языке:\n",
    "\n",
    "1. **Russian News Dataset:** Наборы данных, содержащие статьи новостей на русском языке. Например, вы можете найти наборы данных с новостями из различных источников.\n",
    "\n",
    "2. **RuSentiment:** Набор данных для анализа тональности текстов на русском языке. Содержит аннотированные отзывы и комментарии.\n",
    "\n",
    "3. **Sberbank Russian Language Dataset:** Набор данных для задач обработки естественного языка, который включает в себя различные текстовые данные на русском языке.\n",
    "\n",
    "4. **Toxic Comment Classification Challenge:** Набор данных, содержащий токсичные комментарии на нескольких языках, включая русский. Полезен для задач классификации текста.\n",
    "\n",
    "5. **Russian Wikipedia:** Полный набор данных с текстами статей из русскоязычной Википедии, который можно использовать для различных задач, включая обучение языковых моделей.\n",
    "\n",
    "6. **Multi-Genre Natural Language Inference (MNLI):** Хотя этот набор данных в основном на английском языке, есть его версии на других языках, включая русский, которые могут быть полезны для задач вывода.\n",
    "\n",
    "7. **Common Crawl:** Наборы данных, собранные из веб-страниц, включая контент на русском языке. Это может быть полезно для создания больших языковых моделей."
   ]
  },
  {
   "cell_type": "code",
   "execution_count": 1,
   "id": "4b876988",
   "metadata": {},
   "outputs": [],
   "source": [
    "#pip install datasets"
   ]
  },
  {
   "cell_type": "code",
   "execution_count": 4,
   "id": "bd857983",
   "metadata": {},
   "outputs": [
    {
     "data": {
      "application/vnd.jupyter.widget-view+json": {
       "model_id": "f28a369af85942f1b58a9d86a4b4c4bd",
       "version_major": 2,
       "version_minor": 0
      },
      "text/plain": [
       "Downloading readme:   0%|          | 0.00/1.01k [00:00<?, ?B/s]"
      ]
     },
     "metadata": {},
     "output_type": "display_data"
    },
    {
     "name": "stdout",
     "output_type": "stream",
     "text": [
      "Downloading and preparing dataset None/None to C:/Users/Sonya/.cache/huggingface/datasets/data-silence___parquet/data-silence--rus_news_classifier-d21d67b1ed0f3c2c/0.0.0/2a3b91fbd88a2c90d1dbbb32b460cf621d31bd5b05b934492fdef7d8d6f236ec...\n"
     ]
    },
    {
     "data": {
      "application/vnd.jupyter.widget-view+json": {
       "model_id": "06d660b58d98455e8ad380adf4bfa4df",
       "version_major": 2,
       "version_minor": 0
      },
      "text/plain": [
       "Downloading data files:   0%|          | 0/2 [00:00<?, ?it/s]"
      ]
     },
     "metadata": {},
     "output_type": "display_data"
    },
    {
     "data": {
      "application/vnd.jupyter.widget-view+json": {
       "model_id": "20faea2fb9344d6a8acf87ca8cdf5f37",
       "version_major": 2,
       "version_minor": 0
      },
      "text/plain": [
       "Downloading data:   0%|          | 0.00/69.1M [00:00<?, ?B/s]"
      ]
     },
     "metadata": {},
     "output_type": "display_data"
    },
    {
     "data": {
      "application/vnd.jupyter.widget-view+json": {
       "model_id": "3e680e8fa69b43a98f965a7bc585195a",
       "version_major": 2,
       "version_minor": 0
      },
      "text/plain": [
       "Downloading data:   0%|          | 0.00/17.3M [00:00<?, ?B/s]"
      ]
     },
     "metadata": {},
     "output_type": "display_data"
    },
    {
     "data": {
      "application/vnd.jupyter.widget-view+json": {
       "model_id": "0f090d3f3df049718b7b76d1316a13df",
       "version_major": 2,
       "version_minor": 0
      },
      "text/plain": [
       "Extracting data files:   0%|          | 0/2 [00:00<?, ?it/s]"
      ]
     },
     "metadata": {},
     "output_type": "display_data"
    },
    {
     "data": {
      "application/vnd.jupyter.widget-view+json": {
       "model_id": "",
       "version_major": 2,
       "version_minor": 0
      },
      "text/plain": [
       "Generating train split:   0%|          | 0/57530 [00:00<?, ? examples/s]"
      ]
     },
     "metadata": {},
     "output_type": "display_data"
    },
    {
     "data": {
      "application/vnd.jupyter.widget-view+json": {
       "model_id": "",
       "version_major": 2,
       "version_minor": 0
      },
      "text/plain": [
       "Generating test split:   0%|          | 0/14383 [00:00<?, ? examples/s]"
      ]
     },
     "metadata": {},
     "output_type": "display_data"
    },
    {
     "name": "stdout",
     "output_type": "stream",
     "text": [
      "Dataset parquet downloaded and prepared to C:/Users/Sonya/.cache/huggingface/datasets/data-silence___parquet/data-silence--rus_news_classifier-d21d67b1ed0f3c2c/0.0.0/2a3b91fbd88a2c90d1dbbb32b460cf621d31bd5b05b934492fdef7d8d6f236ec. Subsequent calls will reuse this data.\n"
     ]
    },
    {
     "data": {
      "application/vnd.jupyter.widget-view+json": {
       "model_id": "6891ce524cb44a5aa849037a7d8ed51e",
       "version_major": 2,
       "version_minor": 0
      },
      "text/plain": [
       "  0%|          | 0/2 [00:00<?, ?it/s]"
      ]
     },
     "metadata": {},
     "output_type": "display_data"
    },
    {
     "data": {
      "text/plain": [
       "DatasetDict({\n",
       "    train: Dataset({\n",
       "        features: ['news', 'labels'],\n",
       "        num_rows: 57530\n",
       "    })\n",
       "    test: Dataset({\n",
       "        features: ['news', 'labels'],\n",
       "        num_rows: 14383\n",
       "    })\n",
       "})"
      ]
     },
     "execution_count": 4,
     "metadata": {},
     "output_type": "execute_result"
    }
   ],
   "source": [
    "from datasets import load_dataset\n",
    "\n",
    "dataset = load_dataset('data-silence/rus_news_classifier')  # Укажите нужный набор данных\n",
    "dataset"
   ]
  },
  {
   "cell_type": "markdown",
   "id": "9de314af",
   "metadata": {},
   "source": [
    "categories_translator:\n",
    "- 'climate': 0,\n",
    "- 'conflicts': 1,\n",
    "- 'culture': 2,\n",
    "- 'economy': 3,\n",
    "- 'gloss': 4,\n",
    "- 'health': 5,\n",
    "- 'politics': 6,\n",
    "- 'science': 7,\n",
    "- 'society': 8,\n",
    "- 'sports': 9,\n",
    "- 'travel': 10}"
   ]
  },
  {
   "cell_type": "code",
   "execution_count": 10,
   "id": "513627c6",
   "metadata": {},
   "outputs": [
    {
     "name": "stdout",
     "output_type": "stream",
     "text": [
      "{'news': 'Компания Xiaomi до конца осени может начать официально поставлять свои ноутбуки в Россию. Об этом сообщают «Известия» со ссылкой на источник в компании-партнере китайского вендора. Если китайская корпорация начнет поставлять ноутбуки в России, то станет едва ли не первым широко известным вендором, который выйдет на российский рынок после начала специальной военной операции на Украине и санкционной кампании, отметил один из собеседников издания. Отмечается, что официально Xiaomi до сих пор ввозил на территорию России только смартфоны, аксессуары, мелкую бытовую технику, телевизоры и другие позиции, но не ноутбуки. По данным Mobile Research Group, несмотря на отсутствие официального импорта, спрос на ноутбуки Xiaomi в стране был — в начале 2022 года они занимали 3,5-4 процента рынка этих устройств в натуральном выражении. По словам ведущего аналитика компании Эльдара Муртазина, если прямые поставки действительно начнутся, эта доля может значительно увеличиться. Он считает, что выход Xiaomi на российский рынок ноутбуков позволит компании заметно нарастить продажи. Ранее продавцов iPhone 14 обвинили в нарушении закона. Российская ассоциация торговых компаний и товаропроизводителей электробытовой и компьютерной техники (РАТЭК) заявила, что новые модели смартфонов невозможно легально сбывать на российском рынке. Претензия РАТЭК сводится к тому, что для легального обращения на российском рынке новые модели смартфонов должны получить необходимые сертификаты, декларации и нотификацию о характеристиках шифровальных средств и товаров ЕАЭС, либо заключение Центра по лицензированию, сертификации и защите гостайны ФСБ.', 'labels': 7}\n"
     ]
    }
   ],
   "source": [
    "print(dataset['train'][10])"
   ]
  },
  {
   "cell_type": "code",
   "execution_count": 11,
   "id": "675e5ef6",
   "metadata": {},
   "outputs": [],
   "source": [
    "import pandas as pd\n",
    "\n",
    "# Преобразование тренировочного набора данных в DataFrame\n",
    "df_train = pd.DataFrame(dataset['train'])\n",
    "df_test = pd.DataFrame(dataset['test'])"
   ]
  },
  {
   "cell_type": "code",
   "execution_count": 14,
   "id": "02bdfe6c",
   "metadata": {},
   "outputs": [
    {
     "name": "stdout",
     "output_type": "stream",
     "text": [
      "<bound method NDFrame.head of                                                     news  labels\n",
      "0      Житель Москвы сходил на сеанс эротического мас...       1\n",
      "1      В 2021 году Microsoft выпустит специальную вер...       7\n",
      "2      Министерство культуры и информационной политик...       2\n",
      "3      Британский боксер-тяжеловес Тайсон Фьюри оскор...       9\n",
      "4      Растущая напряженность между Индией и Китаем в...       1\n",
      "...                                                  ...     ...\n",
      "57525  Популярные парки аттракционов, закрытые на год...      10\n",
      "57526  Модный редактор Vogue Хенрик Лишке назвал солн...       4\n",
      "57527  Партнерам следует тщательнее подбирать слова и...       5\n",
      "57528  44-летняя полная женщина повторила откровенные...       4\n",
      "57529  Россия завершила укладку труб «Северного поток...       3\n",
      "\n",
      "[57530 rows x 2 columns]>\n"
     ]
    }
   ],
   "source": [
    "print(df_train.head)"
   ]
  },
  {
   "cell_type": "code",
   "execution_count": 15,
   "id": "e9d2c721",
   "metadata": {},
   "outputs": [
    {
     "name": "stdout",
     "output_type": "stream",
     "text": [
      "                                                    news  labels\n",
      "0      Ученые Университета Неймегена и Университета Т...       7\n",
      "1      Житель австралийского города Брисбена, штат Кв...       4\n",
      "2      Минобороны России впервые испытает боевых робо...       1\n",
      "3      Сотрудники ФСБ установили и задержали двух муж...       1\n",
      "4      Стюардесса британских авиалиний Лаура Рейнольд...      10\n",
      "...                                                  ...     ...\n",
      "14378  вброс bloomberg о российском ' вмешательстве '...       4\n",
      "14379  США разместили в Румынии элитную 101-ю десантн...       8\n",
      "14380  Британская журналистка Даниэль Кейт Роу решила...       5\n",
      "14381  На увеличение зарплат помощникам депутатов в 2...       6\n",
      "14382  Австралийка, пережившая извержение вулкана на ...      10\n",
      "\n",
      "[14383 rows x 2 columns]\n"
     ]
    }
   ],
   "source": [
    "print(df_test)"
   ]
  },
  {
   "cell_type": "code",
   "execution_count": null,
   "id": "ea5d1ba6",
   "metadata": {},
   "outputs": [],
   "source": []
  }
 ],
 "metadata": {
  "kernelspec": {
   "display_name": "Python 3 (ipykernel)",
   "language": "python",
   "name": "python3"
  },
  "language_info": {
   "codemirror_mode": {
    "name": "ipython",
    "version": 3
   },
   "file_extension": ".py",
   "mimetype": "text/x-python",
   "name": "python",
   "nbconvert_exporter": "python",
   "pygments_lexer": "ipython3",
   "version": "3.11.5"
  }
 },
 "nbformat": 4,
 "nbformat_minor": 5
}
