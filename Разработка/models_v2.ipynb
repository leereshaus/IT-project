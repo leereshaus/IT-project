{
  "nbformat": 4,
  "nbformat_minor": 0,
  "metadata": {
    "colab": {
      "provenance": [],
      "gpuType": "T4"
    },
    "kernelspec": {
      "name": "python3",
      "display_name": "Python 3"
    },
    "language_info": {
      "name": "python"
    },
    "accelerator": "GPU"
  },
  "cells": [
    {
      "cell_type": "code",
      "execution_count": 1,
      "metadata": {
        "id": "PP2EboMpkSdV"
      },
      "outputs": [],
      "source": [
        "import pandas as pd\n",
        "import numpy as np\n",
        "from sklearn.model_selection import train_test_split\n",
        "from sklearn.preprocessing import LabelEncoder\n",
        "from tensorflow.keras.preprocessing.text import Tokenizer\n",
        "from tensorflow.keras.preprocessing.sequence import pad_sequences\n",
        "from tensorflow.keras.models import Sequential\n",
        "from tensorflow.keras.layers import Embedding, LSTM, Dense, Conv1D, GlobalMaxPooling1D, Dropout\n",
        "from tensorflow.keras.utils import to_categorical\n",
        "from transformers import BertTokenizer, TFBertModel\n",
        "import tensorflow as tf\n",
        "from tensorflow.keras.callbacks import EarlyStopping\n",
        "\n",
        "\n",
        "#from google.colab import drive\n",
        "#drive.mount('/content/drive')\n",
        "\n",
        "#md = '/content/drive/My Drive/novosti/prep_dataset.csv'"
      ]
    },
    {
      "cell_type": "code",
      "source": [
        "# 1. Загрузка данных\n",
        "data = pd.read_csv('prep_dataset.csv')  # Замените на путь к вашему файлу\n",
        "texts = data['main_text'].values\n",
        "labels = data['category'].values\n",
        "\n",
        "# 2. Предобработка данных\n",
        "# Преобразование меток в числовой формат\n",
        "label_encoder = LabelEncoder()\n",
        "labels_encoded = label_encoder.fit_transform(labels)\n",
        "num_classes = len(label_encoder.classes_)\n",
        "\n",
        "X_train_val, X_test, y_train_val, y_test = train_test_split(texts, labels_encoded, test_size=0.2, stratify=labels_encoded, random_state=42)\n",
        "X_train, X_val, y_train, y_val = train_test_split(X_train_val, y_train_val, test_size=0.25, stratify=y_train_val, random_state=42)"
      ],
      "metadata": {
        "id": "cYKLGc5ji8gU"
      },
      "execution_count": 2,
      "outputs": []
    },
    {
      "cell_type": "code",
      "source": [
        "# 3. Векторизация текста (для RNN и CNN) и EarlyStopping\n",
        "max_length = 100  # Максимальная длина последовательности\n",
        "tokenizer = Tokenizer()\n",
        "tokenizer.fit_on_texts(X_train)\n",
        "\n",
        "X_train_seq = tokenizer.texts_to_sequences(X_train)\n",
        "X_val_seq = tokenizer.texts_to_sequences(X_val)\n",
        "X_test_seq = tokenizer.texts_to_sequences(X_test)\n",
        "\n",
        "X_train_padded = pad_sequences(X_train_seq, maxlen=max_length)\n",
        "X_val_padded = pad_sequences(X_val_seq, maxlen=max_length)\n",
        "X_test_padded = pad_sequences(X_test_seq, maxlen=max_length)\n",
        "\n",
        "y_train_one_hot = to_categorical(y_train, num_classes=num_classes)\n",
        "y_val_one_hot = to_categorical(y_val, num_classes=num_classes)\n",
        "y_test_one_hot = to_categorical(y_test, num_classes=num_classes)"
      ],
      "metadata": {
        "id": "3wSJQumDNItK"
      },
      "execution_count": 3,
      "outputs": []
    },
    {
      "cell_type": "code",
      "source": [
        "early_stopping = EarlyStopping(\n",
        "    monitor='val_loss', # Отслеживаем значение val_loss (потери на валидационной выборке)\n",
        "    patience=2,          # Сколько эпох ждать улучшения, прежде чем остановить обучение\n",
        "    restore_best_weights=True # Восстанавливаем веса модели, соответствующие лучшей эпохе\n",
        ")"
      ],
      "metadata": {
        "id": "qg-DP9XPseiz"
      },
      "execution_count": 4,
      "outputs": []
    },
    {
      "cell_type": "code",
      "source": [
        "from keras.layers import GRU\n",
        "\n",
        "# Модель GRU\n",
        "def create_gru_model():\n",
        "    model = Sequential()\n",
        "    model.add(Embedding(input_dim=len(tokenizer.word_index) + 1, output_dim=128, input_length=max_length))\n",
        "    model.add(GRU(64))  # Используем GRU вместо LSTM\n",
        "    model.add(Dense(num_classes, activation='softmax'))\n",
        "    model.compile(loss='categorical_crossentropy', optimizer='adam', metrics=['accuracy'])\n",
        "    return model"
      ],
      "metadata": {
        "id": "cDkP4Dpxh95h"
      },
      "execution_count": 6,
      "outputs": []
    },
    {
      "cell_type": "code",
      "source": [
        "# Обучение GRU\n",
        "gru_model = create_gru_model()\n",
        "history_gru = gru_model.fit(\n",
        "    X_train_padded, y_train_one_hot,\n",
        "    validation_data=(X_val_padded, y_val_one_hot),\n",
        "    epochs=10,\n",
        "    batch_size=32,\n",
        "    callbacks=[early_stopping]\n",
        ")\n",
        "gru_loss, gru_accuracy = gru_model.evaluate(X_test_padded, y_test_one_hot)"
      ],
      "metadata": {
        "colab": {
          "base_uri": "https://localhost:8080/"
        },
        "id": "DUANTvq1oMFk",
        "outputId": "91bdff5f-5ebe-4072-b3db-11eed1966cbe"
      },
      "execution_count": 7,
      "outputs": [
        {
          "output_type": "stream",
          "name": "stderr",
          "text": [
            "/usr/local/lib/python3.10/dist-packages/keras/src/layers/core/embedding.py:90: UserWarning: Argument `input_length` is deprecated. Just remove it.\n",
            "  warnings.warn(\n"
          ]
        },
        {
          "output_type": "stream",
          "name": "stdout",
          "text": [
            "Epoch 1/10\n",
            "\u001b[1m1628/1628\u001b[0m \u001b[32m━━━━━━━━━━━━━━━━━━━━\u001b[0m\u001b[37m\u001b[0m \u001b[1m616s\u001b[0m 375ms/step - accuracy: 0.5261 - loss: 1.3398 - val_accuracy: 0.8230 - val_loss: 0.5742\n",
            "Epoch 2/10\n",
            "\u001b[1m1628/1628\u001b[0m \u001b[32m━━━━━━━━━━━━━━━━━━━━\u001b[0m\u001b[37m\u001b[0m \u001b[1m644s\u001b[0m 389ms/step - accuracy: 0.8872 - loss: 0.3679 - val_accuracy: 0.8318 - val_loss: 0.5544\n",
            "Epoch 3/10\n",
            "\u001b[1m1628/1628\u001b[0m \u001b[32m━━━━━━━━━━━━━━━━━━━━\u001b[0m\u001b[37m\u001b[0m \u001b[1m682s\u001b[0m 389ms/step - accuracy: 0.9408 - loss: 0.1909 - val_accuracy: 0.8242 - val_loss: 0.6244\n",
            "Epoch 4/10\n",
            "\u001b[1m1628/1628\u001b[0m \u001b[32m━━━━━━━━━━━━━━━━━━━━\u001b[0m\u001b[37m\u001b[0m \u001b[1m670s\u001b[0m 382ms/step - accuracy: 0.9594 - loss: 0.1281 - val_accuracy: 0.8278 - val_loss: 0.6802\n",
            "\u001b[1m543/543\u001b[0m \u001b[32m━━━━━━━━━━━━━━━━━━━━\u001b[0m\u001b[37m\u001b[0m \u001b[1m10s\u001b[0m 19ms/step - accuracy: 0.8355 - loss: 0.5481\n"
          ]
        }
      ]
    },
    {
      "cell_type": "code",
      "source": [
        "print(f\"Точность GRU: {gru_accuracy:.4f}\")"
      ],
      "metadata": {
        "colab": {
          "base_uri": "https://localhost:8080/"
        },
        "id": "FWdN3wpcyj-3",
        "outputId": "d3eaf66f-2457-4ede-844f-350619dc9772"
      },
      "execution_count": 8,
      "outputs": [
        {
          "output_type": "stream",
          "name": "stdout",
          "text": [
            "Точность GRU: 0.8331\n"
          ]
        }
      ]
    },
    {
      "cell_type": "code",
      "source": [
        "from keras.layers import Bidirectional\n",
        "\n",
        "# Модель Bidirectional LSTM\n",
        "def create_bi_lstm_model():\n",
        "    model = Sequential()\n",
        "    model.add(Embedding(input_dim=len(tokenizer.word_index) + 1, output_dim=128, input_length=max_length))\n",
        "    model.add(Bidirectional(LSTM(64)))  # Двунаправленный LSTM\n",
        "    model.add(Dense(num_classes, activation='softmax'))\n",
        "    model.compile(loss='categorical_crossentropy', optimizer='adam', metrics=['accuracy'])\n",
        "    return model"
      ],
      "metadata": {
        "id": "o9pyUK3Ty7NE"
      },
      "execution_count": 9,
      "outputs": []
    },
    {
      "cell_type": "code",
      "source": [
        "# Обучение Bidirectional LSTM\n",
        "bi_lstm_model = create_bi_lstm_model()\n",
        "history_bi_lstm = bi_lstm_model.fit(\n",
        "    X_train_padded, y_train_one_hot,\n",
        "    validation_data=(X_val_padded, y_val_one_hot),\n",
        "    epochs=10,\n",
        "    batch_size=32,\n",
        "    callbacks=[early_stopping]\n",
        ")\n",
        "bi_lstm_loss, bi_lstm_accuracy = bi_lstm_model.evaluate(X_test_padded, y_test_one_hot)"
      ],
      "metadata": {
        "colab": {
          "base_uri": "https://localhost:8080/"
        },
        "id": "0CEZuyfZzDGp",
        "outputId": "080331d5-c66a-4cb9-ff1e-d36e07e6ffed"
      },
      "execution_count": 10,
      "outputs": [
        {
          "output_type": "stream",
          "name": "stdout",
          "text": [
            "Epoch 1/10\n"
          ]
        },
        {
          "output_type": "stream",
          "name": "stderr",
          "text": [
            "/usr/local/lib/python3.10/dist-packages/keras/src/layers/core/embedding.py:90: UserWarning: Argument `input_length` is deprecated. Just remove it.\n",
            "  warnings.warn(\n"
          ]
        },
        {
          "output_type": "stream",
          "name": "stdout",
          "text": [
            "\u001b[1m1628/1628\u001b[0m \u001b[32m━━━━━━━━━━━━━━━━━━━━\u001b[0m\u001b[37m\u001b[0m \u001b[1m712s\u001b[0m 433ms/step - accuracy: 0.5710 - loss: 1.2494 - val_accuracy: 0.8136 - val_loss: 0.6080\n",
            "Epoch 2/10\n",
            "\u001b[1m1628/1628\u001b[0m \u001b[32m━━━━━━━━━━━━━━━━━━━━\u001b[0m\u001b[37m\u001b[0m \u001b[1m744s\u001b[0m 434ms/step - accuracy: 0.8816 - loss: 0.3886 - val_accuracy: 0.8295 - val_loss: 0.5741\n",
            "\u001b[1m543/543\u001b[0m \u001b[32m━━━━━━━━━━━━━━━━━━━━\u001b[0m\u001b[37m\u001b[0m \u001b[1m19s\u001b[0m 34ms/step - accuracy: 0.8161 - loss: 0.6075\n"
          ]
        }
      ]
    },
    {
      "cell_type": "code",
      "source": [
        "print(f\"Точность Bidirectional LSTM: {bi_lstm_accuracy:.4f}\")"
      ],
      "metadata": {
        "colab": {
          "base_uri": "https://localhost:8080/"
        },
        "id": "xw0s0JHl44Hh",
        "outputId": "9d955215-1ed2-4cc4-a1dd-d1bb0475d5e3"
      },
      "execution_count": 11,
      "outputs": [
        {
          "output_type": "stream",
          "name": "stdout",
          "text": [
            "Точность Bidirectional LSTM: 0.8132\n"
          ]
        }
      ]
    },
    {
      "cell_type": "code",
      "source": [
        "import xgboost as xgb\n",
        "from sklearn.feature_extraction.text import TfidfVectorizer\n",
        "\n",
        "# Извлечение признаков с помощью TF-IDF\n",
        "vectorizer = TfidfVectorizer(max_features=5000) # Ограничиваем количество признаков\n",
        "X_train_tfidf = vectorizer.fit_transform(X_train)\n",
        "X_val_tfidf = vectorizer.transform(X_val)\n",
        "X_test_tfidf = vectorizer.transform(X_test)"
      ],
      "metadata": {
        "id": "reMoVlZq5Qoe"
      },
      "execution_count": 12,
      "outputs": []
    },
    {
      "cell_type": "code",
      "source": [
        "# Обучение XGBoost\n",
        "model_xgb = xgb.XGBClassifier(objective='multi:softmax', num_class=num_classes, random_state=42)\n",
        "model_xgb.fit(X_train_tfidf, y_train)\n",
        "accuracy_xgb = model_xgb.score(X_test_tfidf, y_test)"
      ],
      "metadata": {
        "id": "h3SN8H_p5bM3"
      },
      "execution_count": 14,
      "outputs": []
    },
    {
      "cell_type": "code",
      "source": [
        "print(f\"Точность XGBoost: {accuracy_xgb}\")"
      ],
      "metadata": {
        "colab": {
          "base_uri": "https://localhost:8080/"
        },
        "id": "TV8mA8B45oT6",
        "outputId": "0199c253-47e6-4b74-af6a-a4e82c9bf372"
      },
      "execution_count": 15,
      "outputs": [
        {
          "output_type": "stream",
          "name": "stdout",
          "text": [
            "Точность XGBoost: 0.8649115732473068\n"
          ]
        }
      ]
    },
    {
      "cell_type": "code",
      "source": [
        "from sklearn.svm import SVC\n",
        "from sklearn.feature_extraction.text import TfidfVectorizer\n",
        "\n",
        "model_svm = SVC(kernel='linear', C=1, decision_function_shape='ovr', random_state=42) # Можно экспериментировать с ядром и параметрами C\n",
        "model_svm.fit(X_train_tfidf, y_train)\n",
        "accuracy_svm = model_svm.score(X_test_tfidf, y_test)"
      ],
      "metadata": {
        "id": "hRSxjbHCBj0_"
      },
      "execution_count": 16,
      "outputs": []
    },
    {
      "cell_type": "code",
      "source": [
        "print(f\"Accuracy SVM: {accuracy_svm}\")"
      ],
      "metadata": {
        "colab": {
          "base_uri": "https://localhost:8080/"
        },
        "id": "VNQvXTUMBtqj",
        "outputId": "c403f953-6abf-4986-8cfc-37363bcb2c47"
      },
      "execution_count": 17,
      "outputs": [
        {
          "output_type": "stream",
          "name": "stdout",
          "text": [
            "Accuracy SVM: 0.8801198225704245\n"
          ]
        }
      ]
    }
  ]
}